{
 "cells": [
  {
   "cell_type": "markdown",
   "id": "94e93a3a",
   "metadata": {},
   "source": [
    "# B171210094- SEFA EKİCİ "
   ]
  },
  {
   "cell_type": "markdown",
   "id": "9f27eb5c",
   "metadata": {},
   "source": [
    "## KANSIZLIK TANISINDA REGRESYON-1.ÖĞRETİM A GRUBU"
   ]
  },
  {
   "cell_type": "code",
   "execution_count": 42,
   "id": "2dfaa252",
   "metadata": {},
   "outputs": [],
   "source": [
    "#Gerekli Kütüphanelerin İmport Edilmesi İşlemi\n",
    "import numpy as np\n",
    "import pandas as pd\n",
    "import matplotlib.pyplot as plt\n",
    "import seaborn as sns"
   ]
  },
  {
   "cell_type": "code",
   "execution_count": 43,
   "id": "b4cf9724",
   "metadata": {},
   "outputs": [
    {
     "data": {
      "text/html": [
       "<div>\n",
       "<style scoped>\n",
       "    .dataframe tbody tr th:only-of-type {\n",
       "        vertical-align: middle;\n",
       "    }\n",
       "\n",
       "    .dataframe tbody tr th {\n",
       "        vertical-align: top;\n",
       "    }\n",
       "\n",
       "    .dataframe thead th {\n",
       "        text-align: right;\n",
       "    }\n",
       "</style>\n",
       "<table border=\"1\" class=\"dataframe\">\n",
       "  <thead>\n",
       "    <tr style=\"text-align: right;\">\n",
       "      <th></th>\n",
       "      <th>id</th>\n",
       "      <th>RBC</th>\n",
       "      <th>HGB</th>\n",
       "      <th>HCT</th>\n",
       "      <th>MCV</th>\n",
       "      <th>MCH</th>\n",
       "      <th>MCHC</th>\n",
       "      <th>RESULT</th>\n",
       "    </tr>\n",
       "  </thead>\n",
       "  <tbody>\n",
       "    <tr>\n",
       "      <th>0</th>\n",
       "      <td>1</td>\n",
       "      <td>2.60</td>\n",
       "      <td>3.60</td>\n",
       "      <td>15.70</td>\n",
       "      <td>59.20</td>\n",
       "      <td>13.60</td>\n",
       "      <td>22.90</td>\n",
       "      <td>1</td>\n",
       "    </tr>\n",
       "    <tr>\n",
       "      <th>1</th>\n",
       "      <td>2</td>\n",
       "      <td>2.83</td>\n",
       "      <td>4.72</td>\n",
       "      <td>24.32</td>\n",
       "      <td>85.92</td>\n",
       "      <td>26.10</td>\n",
       "      <td>30.52</td>\n",
       "      <td>1</td>\n",
       "    </tr>\n",
       "    <tr>\n",
       "      <th>2</th>\n",
       "      <td>3</td>\n",
       "      <td>4.61</td>\n",
       "      <td>6.62</td>\n",
       "      <td>24.22</td>\n",
       "      <td>52.52</td>\n",
       "      <td>14.32</td>\n",
       "      <td>27.32</td>\n",
       "      <td>1</td>\n",
       "    </tr>\n",
       "    <tr>\n",
       "      <th>3</th>\n",
       "      <td>4</td>\n",
       "      <td>3.90</td>\n",
       "      <td>7.02</td>\n",
       "      <td>24.82</td>\n",
       "      <td>63.62</td>\n",
       "      <td>17.92</td>\n",
       "      <td>28.22</td>\n",
       "      <td>1</td>\n",
       "    </tr>\n",
       "    <tr>\n",
       "      <th>4</th>\n",
       "      <td>5</td>\n",
       "      <td>2.07</td>\n",
       "      <td>7.32</td>\n",
       "      <td>22.92</td>\n",
       "      <td>10.61</td>\n",
       "      <td>35.30</td>\n",
       "      <td>31.90</td>\n",
       "      <td>1</td>\n",
       "    </tr>\n",
       "  </tbody>\n",
       "</table>\n",
       "</div>"
      ],
      "text/plain": [
       "   id   RBC   HGB    HCT    MCV    MCH   MCHC  RESULT\n",
       "0   1  2.60  3.60  15.70  59.20  13.60  22.90       1\n",
       "1   2  2.83  4.72  24.32  85.92  26.10  30.52       1\n",
       "2   3  4.61  6.62  24.22  52.52  14.32  27.32       1\n",
       "3   4  3.90  7.02  24.82  63.62  17.92  28.22       1\n",
       "4   5  2.07  7.32  22.92  10.61  35.30  31.90       1"
      ]
     },
     "execution_count": 43,
     "metadata": {},
     "output_type": "execute_result"
    }
   ],
   "source": [
    "#Dataset csv dosyası üzezrinden okundu ve genel bir bilgi almak amacıyla ilk 5 datası ekrana yazdırıldı.\n",
    "anemia_datas=pd.read_csv('anemi-dataset.csv')\n",
    "anemia_datas.head()"
   ]
  },
  {
   "cell_type": "code",
   "execution_count": 44,
   "id": "bd6ebe46",
   "metadata": {},
   "outputs": [
    {
     "name": "stdout",
     "output_type": "stream",
     "text": [
      "(1733, 8)\n"
     ]
    }
   ],
   "source": [
    "#DataFrame'e ait sütün ve satır sayısı bilgisi ekrana yazdırıldı.\n",
    "print(anemia_datas.shape)"
   ]
  },
  {
   "cell_type": "code",
   "execution_count": 45,
   "id": "7cf4aef2",
   "metadata": {},
   "outputs": [
    {
     "name": "stdout",
     "output_type": "stream",
     "text": [
      "<class 'pandas.core.frame.DataFrame'>\n",
      "RangeIndex: 1733 entries, 0 to 1732\n",
      "Data columns (total 8 columns):\n",
      " #   Column  Non-Null Count  Dtype  \n",
      "---  ------  --------------  -----  \n",
      " 0   id      1733 non-null   int64  \n",
      " 1   RBC     1733 non-null   float64\n",
      " 2   HGB     1733 non-null   float64\n",
      " 3   HCT     1733 non-null   float64\n",
      " 4   MCV     1733 non-null   float64\n",
      " 5   MCH     1733 non-null   float64\n",
      " 6   MCHC    1733 non-null   float64\n",
      " 7   RESULT  1733 non-null   int64  \n",
      "dtypes: float64(6), int64(2)\n",
      "memory usage: 108.4 KB\n"
     ]
    }
   ],
   "source": [
    "#Datalar hakkında genel bilgi alındı null olan data bulunmadığı buradan görülmüş oldu\n",
    "anemia_datas.info()"
   ]
  },
  {
   "cell_type": "code",
   "execution_count": 46,
   "id": "6e05b6fd",
   "metadata": {},
   "outputs": [
    {
     "data": {
      "text/html": [
       "<div>\n",
       "<style scoped>\n",
       "    .dataframe tbody tr th:only-of-type {\n",
       "        vertical-align: middle;\n",
       "    }\n",
       "\n",
       "    .dataframe tbody tr th {\n",
       "        vertical-align: top;\n",
       "    }\n",
       "\n",
       "    .dataframe thead th {\n",
       "        text-align: right;\n",
       "    }\n",
       "</style>\n",
       "<table border=\"1\" class=\"dataframe\">\n",
       "  <thead>\n",
       "    <tr style=\"text-align: right;\">\n",
       "      <th></th>\n",
       "      <th>RBC</th>\n",
       "      <th>HGB</th>\n",
       "      <th>HCT</th>\n",
       "      <th>MCV</th>\n",
       "      <th>MCH</th>\n",
       "      <th>MCHC</th>\n",
       "      <th>RESULT</th>\n",
       "    </tr>\n",
       "  </thead>\n",
       "  <tbody>\n",
       "    <tr>\n",
       "      <th>0</th>\n",
       "      <td>2.60</td>\n",
       "      <td>3.60</td>\n",
       "      <td>15.70</td>\n",
       "      <td>59.20</td>\n",
       "      <td>13.60</td>\n",
       "      <td>22.90</td>\n",
       "      <td>1</td>\n",
       "    </tr>\n",
       "    <tr>\n",
       "      <th>1</th>\n",
       "      <td>2.83</td>\n",
       "      <td>4.72</td>\n",
       "      <td>24.32</td>\n",
       "      <td>85.92</td>\n",
       "      <td>26.10</td>\n",
       "      <td>30.52</td>\n",
       "      <td>1</td>\n",
       "    </tr>\n",
       "    <tr>\n",
       "      <th>2</th>\n",
       "      <td>4.61</td>\n",
       "      <td>6.62</td>\n",
       "      <td>24.22</td>\n",
       "      <td>52.52</td>\n",
       "      <td>14.32</td>\n",
       "      <td>27.32</td>\n",
       "      <td>1</td>\n",
       "    </tr>\n",
       "    <tr>\n",
       "      <th>3</th>\n",
       "      <td>3.90</td>\n",
       "      <td>7.02</td>\n",
       "      <td>24.82</td>\n",
       "      <td>63.62</td>\n",
       "      <td>17.92</td>\n",
       "      <td>28.22</td>\n",
       "      <td>1</td>\n",
       "    </tr>\n",
       "    <tr>\n",
       "      <th>4</th>\n",
       "      <td>2.07</td>\n",
       "      <td>7.32</td>\n",
       "      <td>22.92</td>\n",
       "      <td>10.61</td>\n",
       "      <td>35.30</td>\n",
       "      <td>31.90</td>\n",
       "      <td>1</td>\n",
       "    </tr>\n",
       "  </tbody>\n",
       "</table>\n",
       "</div>"
      ],
      "text/plain": [
       "    RBC   HGB    HCT    MCV    MCH   MCHC  RESULT\n",
       "0  2.60  3.60  15.70  59.20  13.60  22.90       1\n",
       "1  2.83  4.72  24.32  85.92  26.10  30.52       1\n",
       "2  4.61  6.62  24.22  52.52  14.32  27.32       1\n",
       "3  3.90  7.02  24.82  63.62  17.92  28.22       1\n",
       "4  2.07  7.32  22.92  10.61  35.30  31.90       1"
      ]
     },
     "execution_count": 46,
     "metadata": {},
     "output_type": "execute_result"
    }
   ],
   "source": [
    "#id datası kullanılmayacağı için tablo üzerinden düşürüldü.\n",
    "anemia_datas.drop(['id'],axis=1,inplace=True)\n",
    "anemia_datas.head()"
   ]
  },
  {
   "cell_type": "code",
   "execution_count": 47,
   "id": "c1e301fa",
   "metadata": {},
   "outputs": [
    {
     "data": {
      "text/plain": [
       "<AxesSubplot:xlabel='RESULT', ylabel='count'>"
      ]
     },
     "execution_count": 47,
     "metadata": {},
     "output_type": "execute_result"
    },
    {
     "data": {
      "image/png": "[encoded data removed]",
      "text/plain": [
       "<Figure size 432x288 with 1 Axes>"
      ]
     },
     "metadata": {
      "needs_background": "light"
     },
     "output_type": "display_data"
    }
   ],
   "source": [
    "#Buradan datayla ilgili hasta olanlar ve olmayanlar hakkında bilgi alabiliriz.\n",
    "sns.countplot(x='RESULT',data=anemia_datas)"
   ]
  },
  {
   "cell_type": "code",
   "execution_count": 48,
   "id": "e86521db",
   "metadata": {},
   "outputs": [],
   "source": [
    "y=anemia_datas[\"RESULT\"]\n",
    "x=anemia_datas.drop('RESULT',axis=1)"
   ]
  },
  {
   "cell_type": "code",
   "execution_count": 49,
   "id": "d94380de",
   "metadata": {},
   "outputs": [],
   "source": [
    "from sklearn.model_selection import train_test_split\n",
    "x_train,x_test,y_train,y_test=train_test_split(x,y,test_size=.20,random_state=5)"
   ]
  },
  {
   "cell_type": "code",
   "execution_count": 50,
   "id": "c87cd5ac",
   "metadata": {},
   "outputs": [],
   "source": [
    "from sklearn.linear_model import LogisticRegression"
   ]
  },
  {
   "cell_type": "code",
   "execution_count": 51,
   "id": "6ec3360b",
   "metadata": {},
   "outputs": [],
   "source": [
    "#Liblinear hata mesajını gidermek için eklendi.Hata sebebi küçük veri seti olabilir.\n",
    "logreg=LogisticRegression(solver='liblinear')\n",
    "logreg.fit(x_train,y_train)\n",
    "y_pred=logreg.predict(x_test)"
   ]
  },
  {
   "cell_type": "code",
   "execution_count": 52,
   "id": "07e957bb",
   "metadata": {},
   "outputs": [
    {
     "data": {
      "text/plain": [
       "0.9913544668587896"
      ]
     },
     "execution_count": 52,
     "metadata": {},
     "output_type": "execute_result"
    }
   ],
   "source": [
    "import sklearn\n",
    "sklearn.metrics.accuracy_score(y_test,y_pred)"
   ]
  },
  {
   "cell_type": "code",
   "execution_count": 54,
   "id": "e0596401",
   "metadata": {},
   "outputs": [
    {
     "data": {
      "text/plain": [
       "array([0], dtype=int64)"
      ]
     },
     "execution_count": 54,
     "metadata": {},
     "output_type": "execute_result"
    }
   ],
   "source": [
    "logreg.predict([[4.3,12.8,36.6,85.1,29.8,35]])"
   ]
  },
  {
   "cell_type": "code",
   "execution_count": null,
   "id": "a0e1d924",
   "metadata": {},
   "outputs": [],
   "source": []
  },
  {
   "cell_type": "code",
   "execution_count": null,
   "id": "8d3896de",
   "metadata": {},
   "outputs": [],
   "source": []
  }
 ],
 "metadata": {
  "kernelspec": {
   "display_name": "Python 3 (ipykernel)",
   "language": "python",
   "name": "python3"
  },
  "language_info": {
   "codemirror_mode": {
    "name": "ipython",
    "version": 3
   },
   "file_extension": ".py",
   "mimetype": "text/x-python",
   "name": "python",
   "nbconvert_exporter": "python",
   "pygments_lexer": "ipython3",
   "version": "3.9.7"
  }
 },
 "nbformat": 4,
 "nbformat_minor": 5
}
